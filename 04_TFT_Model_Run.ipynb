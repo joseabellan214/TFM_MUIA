{
 "cells": [
  {
   "cell_type": "markdown",
   "id": "844d066e",
   "metadata": {},
   "source": [
    "# TFT Model Definition and Training\n",
    "\n",
    "In this notebook we are going to use the data processed from \"03_Data_Processing.ipynb\" notebook to create and train a TFT model for temperature forecasting."
   ]
  },
  {
   "cell_type": "code",
   "execution_count": 1,
   "id": "40673a9c",
   "metadata": {},
   "outputs": [],
   "source": [
    "# First, import the libraries\n",
    "\n",
    "# Operations and dataframes\n",
    "import numpy as np\n",
    "import pandas as pd\n",
    "\n",
    "# Torch\n",
    "import torch\n",
    "\n",
    "# Pytorch forecasting\n",
    "from pytorch_forecasting import TimeSeriesDataSet\n",
    "from pytorch_forecasting.data import GroupNormalizer\n",
    "from pytorch_forecasting.models import TemporalFusionTransformer\n",
    "from pytorch_forecasting.metrics import QuantileLoss\n",
    "\n",
    "# Pytorch lightning\n",
    "from pytorch_lightning import Trainer\n",
    "from pytorch_lightning.callbacks import ModelCheckpoint\n",
    "from pytorch_lightning.callbacks import LearningRateMonitor\n",
    "from pytorch_lightning.callbacks import Callback\n",
    "from pytorch_lightning.callbacks.early_stopping import EarlyStopping\n",
    "from pytorch_lightning.loggers import TensorBoardLogger\n",
    "\n",
    "# A parser for the floar type for versions incompatibility\n",
    "if not hasattr(np, 'float'):\n",
    "    np.float = float"
   ]
  },
  {
   "cell_type": "markdown",
   "id": "589ecc12",
   "metadata": {},
   "source": [
    "First step is to read the data csv and check that everything is correct."
   ]
  },
  {
   "cell_type": "code",
   "execution_count": 2,
   "id": "81eff9d9",
   "metadata": {},
   "outputs": [
    {
     "name": "stdout",
     "output_type": "stream",
     "text": [
      "Max time index is: 1612\n"
     ]
    },
    {
     "data": {
      "text/html": [
       "<div>\n",
       "<style scoped>\n",
       "    .dataframe tbody tr th:only-of-type {\n",
       "        vertical-align: middle;\n",
       "    }\n",
       "\n",
       "    .dataframe tbody tr th {\n",
       "        vertical-align: top;\n",
       "    }\n",
       "\n",
       "    .dataframe thead th {\n",
       "        text-align: right;\n",
       "    }\n",
       "</style>\n",
       "<table border=\"1\" class=\"dataframe\">\n",
       "  <thead>\n",
       "    <tr style=\"text-align: right;\">\n",
       "      <th></th>\n",
       "      <th>time</th>\n",
       "      <th>lon</th>\n",
       "      <th>lat</th>\n",
       "      <th>2t</th>\n",
       "      <th>is_ocean</th>\n",
       "      <th>PC1</th>\n",
       "      <th>PC2</th>\n",
       "      <th>PC3</th>\n",
       "      <th>PC4</th>\n",
       "      <th>PC5</th>\n",
       "      <th>...</th>\n",
       "      <th>time_idx</th>\n",
       "      <th>time_idx_norm</th>\n",
       "      <th>year</th>\n",
       "      <th>month</th>\n",
       "      <th>dayofyear</th>\n",
       "      <th>season</th>\n",
       "      <th>dayofyear_sin</th>\n",
       "      <th>dayofyear_cos</th>\n",
       "      <th>month_sin</th>\n",
       "      <th>month_cos</th>\n",
       "    </tr>\n",
       "  </thead>\n",
       "  <tbody>\n",
       "    <tr>\n",
       "      <th>0</th>\n",
       "      <td>2021-01-01</td>\n",
       "      <td>-1.620185</td>\n",
       "      <td>1.549193</td>\n",
       "      <td>9.812744</td>\n",
       "      <td>land</td>\n",
       "      <td>-9.925297</td>\n",
       "      <td>-2.939849</td>\n",
       "      <td>3.810723</td>\n",
       "      <td>2.731544</td>\n",
       "      <td>-1.968463</td>\n",
       "      <td>...</td>\n",
       "      <td>1</td>\n",
       "      <td>0.000620</td>\n",
       "      <td>-1.345207</td>\n",
       "      <td>1</td>\n",
       "      <td>1</td>\n",
       "      <td>winter</td>\n",
       "      <td>0.017213</td>\n",
       "      <td>0.999852</td>\n",
       "      <td>0.5</td>\n",
       "      <td>0.866025</td>\n",
       "    </tr>\n",
       "    <tr>\n",
       "      <th>1</th>\n",
       "      <td>2021-01-02</td>\n",
       "      <td>-1.620185</td>\n",
       "      <td>1.549193</td>\n",
       "      <td>9.984833</td>\n",
       "      <td>land</td>\n",
       "      <td>-7.729809</td>\n",
       "      <td>-2.126436</td>\n",
       "      <td>2.666323</td>\n",
       "      <td>0.301923</td>\n",
       "      <td>-2.434395</td>\n",
       "      <td>...</td>\n",
       "      <td>2</td>\n",
       "      <td>0.001241</td>\n",
       "      <td>-1.345207</td>\n",
       "      <td>1</td>\n",
       "      <td>2</td>\n",
       "      <td>winter</td>\n",
       "      <td>0.034422</td>\n",
       "      <td>0.999407</td>\n",
       "      <td>0.5</td>\n",
       "      <td>0.866025</td>\n",
       "    </tr>\n",
       "    <tr>\n",
       "      <th>2</th>\n",
       "      <td>2021-01-03</td>\n",
       "      <td>-1.620185</td>\n",
       "      <td>1.549193</td>\n",
       "      <td>9.910126</td>\n",
       "      <td>land</td>\n",
       "      <td>-7.106028</td>\n",
       "      <td>-2.245741</td>\n",
       "      <td>2.082893</td>\n",
       "      <td>0.181186</td>\n",
       "      <td>-1.565016</td>\n",
       "      <td>...</td>\n",
       "      <td>3</td>\n",
       "      <td>0.001861</td>\n",
       "      <td>-1.345207</td>\n",
       "      <td>1</td>\n",
       "      <td>3</td>\n",
       "      <td>winter</td>\n",
       "      <td>0.051620</td>\n",
       "      <td>0.998667</td>\n",
       "      <td>0.5</td>\n",
       "      <td>0.866025</td>\n",
       "    </tr>\n",
       "    <tr>\n",
       "      <th>3</th>\n",
       "      <td>2021-01-04</td>\n",
       "      <td>-1.620185</td>\n",
       "      <td>1.549193</td>\n",
       "      <td>9.302338</td>\n",
       "      <td>land</td>\n",
       "      <td>-8.749384</td>\n",
       "      <td>-2.314526</td>\n",
       "      <td>3.184947</td>\n",
       "      <td>1.582789</td>\n",
       "      <td>-3.268901</td>\n",
       "      <td>...</td>\n",
       "      <td>4</td>\n",
       "      <td>0.002481</td>\n",
       "      <td>-1.345207</td>\n",
       "      <td>1</td>\n",
       "      <td>4</td>\n",
       "      <td>winter</td>\n",
       "      <td>0.068802</td>\n",
       "      <td>0.997630</td>\n",
       "      <td>0.5</td>\n",
       "      <td>0.866025</td>\n",
       "    </tr>\n",
       "    <tr>\n",
       "      <th>4</th>\n",
       "      <td>2021-01-05</td>\n",
       "      <td>-1.620185</td>\n",
       "      <td>1.549193</td>\n",
       "      <td>9.226074</td>\n",
       "      <td>land</td>\n",
       "      <td>-7.046088</td>\n",
       "      <td>-1.730096</td>\n",
       "      <td>1.287613</td>\n",
       "      <td>-0.004367</td>\n",
       "      <td>-3.620189</td>\n",
       "      <td>...</td>\n",
       "      <td>5</td>\n",
       "      <td>0.003102</td>\n",
       "      <td>-1.345207</td>\n",
       "      <td>1</td>\n",
       "      <td>5</td>\n",
       "      <td>winter</td>\n",
       "      <td>0.085965</td>\n",
       "      <td>0.996298</td>\n",
       "      <td>0.5</td>\n",
       "      <td>0.866025</td>\n",
       "    </tr>\n",
       "  </tbody>\n",
       "</table>\n",
       "<p>5 rows × 27 columns</p>\n",
       "</div>"
      ],
      "text/plain": [
       "        time       lon       lat        2t is_ocean       PC1       PC2  \\\n",
       "0 2021-01-01 -1.620185  1.549193  9.812744     land -9.925297 -2.939849   \n",
       "1 2021-01-02 -1.620185  1.549193  9.984833     land -7.729809 -2.126436   \n",
       "2 2021-01-03 -1.620185  1.549193  9.910126     land -7.106028 -2.245741   \n",
       "3 2021-01-04 -1.620185  1.549193  9.302338     land -8.749384 -2.314526   \n",
       "4 2021-01-05 -1.620185  1.549193  9.226074     land -7.046088 -1.730096   \n",
       "\n",
       "        PC3       PC4       PC5  ...  time_idx  time_idx_norm      year  \\\n",
       "0  3.810723  2.731544 -1.968463  ...         1       0.000620 -1.345207   \n",
       "1  2.666323  0.301923 -2.434395  ...         2       0.001241 -1.345207   \n",
       "2  2.082893  0.181186 -1.565016  ...         3       0.001861 -1.345207   \n",
       "3  3.184947  1.582789 -3.268901  ...         4       0.002481 -1.345207   \n",
       "4  1.287613 -0.004367 -3.620189  ...         5       0.003102 -1.345207   \n",
       "\n",
       "   month  dayofyear  season dayofyear_sin  dayofyear_cos  month_sin  month_cos  \n",
       "0      1          1  winter      0.017213       0.999852        0.5   0.866025  \n",
       "1      1          2  winter      0.034422       0.999407        0.5   0.866025  \n",
       "2      1          3  winter      0.051620       0.998667        0.5   0.866025  \n",
       "3      1          4  winter      0.068802       0.997630        0.5   0.866025  \n",
       "4      1          5  winter      0.085965       0.996298        0.5   0.866025  \n",
       "\n",
       "[5 rows x 27 columns]"
      ]
     },
     "execution_count": 2,
     "metadata": {},
     "output_type": "execute_result"
    }
   ],
   "source": [
    "# Read the csv created\n",
    "df = pd.read_csv(\"tft_ready_dataframe.csv\", parse_dates=[\"time\"])\n",
    "\n",
    "# Make the location id as string\n",
    "df[\"location_id\"] = df[\"location_id\"].astype(str)\n",
    "\n",
    "# Check the max time index\n",
    "max_idx = df[\"time_idx\"].max()\n",
    "print(f\"Max time index is: {max_idx}\")\n",
    "df.head()"
   ]
  },
  {
   "cell_type": "markdown",
   "id": "fe279807",
   "metadata": {},
   "source": [
    "No we need to define the encoder and decoder windows and split the data into train and validation."
   ]
  },
  {
   "cell_type": "code",
   "execution_count": 3,
   "id": "f6ce579e",
   "metadata": {},
   "outputs": [],
   "source": [
    "# Define the encoder and decoder lengths\n",
    "min_encoder_length = 50\n",
    "max_encoder_length = 50\n",
    "min_prediction_length = 7\n",
    "max_prediction_length = 7\n",
    "\n",
    "# Select the number of windows with length encoder+decoder to use in the validation data\n",
    "val_windows = 3\n",
    "max_date = df['time'].max() \n",
    "\n",
    "# Calculate the number of days of the validation set\n",
    "val_days = (max_encoder_length + max_prediction_length) * val_windows\n",
    "\n",
    "# Create a validation cutoff date\n",
    "cutoff = max_date - pd.DateOffset(days=val_days)\n",
    "\n",
    "# Create the train and validation dataframes\n",
    "df_train = df.loc[df['time'] <= cutoff].copy()\n",
    "df_val = df.loc[df['time'] > cutoff].copy()"
   ]
  },
  {
   "cell_type": "markdown",
   "id": "9baf4501",
   "metadata": {},
   "source": [
    "Next step is to define the TimeSeriesDataSets needed for the TFT model. To do that, it is needed to define the variables categories. For the TFT, we have the following categories:\n",
    "\n",
    "- group_ids: The variable which define the groups.\n",
    "- target: The objetive to predict.\n",
    "- time_varying_known_reals: The numeric variables which are known in the future.\n",
    "- time_varying_known_categoricals: The categorical variables which are known in the future.\n",
    "- time_varying_unknown_reals: The numeric variables which are not known in the future, only in the past.\n",
    "- time_varying_unknown_categoricals: The categorical variables which are not known in the future, only in the past.\n",
    "- static_reals: The numeric variables which are constant over time.\n",
    "- static_categoricals: The categorical variables which are constant over time."
   ]
  },
  {
   "cell_type": "code",
   "execution_count": 4,
   "id": "0b8a057e",
   "metadata": {},
   "outputs": [
    {
     "name": "stdout",
     "output_type": "stream",
     "text": [
      "Datasets info\n",
      "TimeSeriesDataSet[length=186975](\n",
      "\ttime_idx='time_idx',\n",
      "\ttarget='2t',\n",
      "\tgroup_ids=['location_id'],\n",
      "\tweight=None,\n",
      "\tmax_encoder_length=50,\n",
      "\tmin_encoder_length=50,\n",
      "\tmin_prediction_idx=1,\n",
      "\tmin_prediction_length=7,\n",
      "\tmax_prediction_length=7,\n",
      "\tstatic_categoricals=['is_ocean', 'location_id'],\n",
      "\tstatic_reals=['lat', 'lon'],\n",
      "\ttime_varying_known_categoricals=['season'],\n",
      "\ttime_varying_known_reals=['time_idx_norm', 'year', 'dayofyear_sin', 'dayofyear_cos', 'month_sin', 'month_cos'],\n",
      "\ttime_varying_unknown_categoricals=[],\n",
      "\ttime_varying_unknown_reals=['2t', 'PC1', 'PC2', 'PC3', 'PC4', 'PC5', 'PC6', 'PC7', 'PC8', 'PC9', 'PC10', 'PC11'],\n",
      "\tvariable_groups={},\n",
      "\tconstant_fill_strategy={},\n",
      "\tallow_missing_timesteps=True,\n",
      "\tlags={},\n",
      "\tadd_relative_time_idx=False,\n",
      "\tadd_target_scales=False,\n",
      "\tadd_encoder_length=False,\n",
      "\ttarget_normalizer=GroupNormalizer(\n",
      "\tmethod='standard',\n",
      "\tgroups=['location_id'],\n",
      "\tcenter=True,\n",
      "\tscale_by_group=False,\n",
      "\ttransformation=None\n",
      "),\n",
      "\tcategorical_encoders={'__group_id__location_id': NaNLabelEncoder(add_nan=False, warn=True), 'location_id': NaNLabelEncoder(add_nan=False, warn=True), 'is_ocean': NaNLabelEncoder(add_nan=False, warn=True), 'season': NaNLabelEncoder(add_nan=False, warn=True)},\n",
      "\tscalers={'lat': StandardScaler(), 'lon': StandardScaler(), 'time_idx_norm': StandardScaler(), 'year': StandardScaler(), 'dayofyear_sin': StandardScaler(), 'dayofyear_cos': StandardScaler(), 'month_sin': StandardScaler(), 'month_cos': StandardScaler(), 'PC1': StandardScaler(), 'PC2': StandardScaler(), 'PC3': StandardScaler(), 'PC4': StandardScaler(), 'PC5': StandardScaler(), 'PC6': StandardScaler(), 'PC7': StandardScaler(), 'PC8': StandardScaler(), 'PC9': StandardScaler(), 'PC10': StandardScaler(), 'PC11': StandardScaler()},\n",
      "\trandomize_length=None,\n",
      "\tpredict_mode=False\n",
      ")\n",
      "TimeSeriesDataSet[length=135](\n",
      "\ttime_idx='time_idx',\n",
      "\ttarget='2t',\n",
      "\tgroup_ids=['location_id'],\n",
      "\tweight=None,\n",
      "\tmax_encoder_length=50,\n",
      "\tmin_encoder_length=50,\n",
      "\tmin_prediction_idx=1,\n",
      "\tmin_prediction_length=7,\n",
      "\tmax_prediction_length=7,\n",
      "\tstatic_categoricals=['is_ocean', 'location_id'],\n",
      "\tstatic_reals=['lat', 'lon'],\n",
      "\ttime_varying_known_categoricals=['season'],\n",
      "\ttime_varying_known_reals=['time_idx_norm', 'year', 'dayofyear_sin', 'dayofyear_cos', 'month_sin', 'month_cos'],\n",
      "\ttime_varying_unknown_categoricals=[],\n",
      "\ttime_varying_unknown_reals=['2t', 'PC1', 'PC2', 'PC3', 'PC4', 'PC5', 'PC6', 'PC7', 'PC8', 'PC9', 'PC10', 'PC11'],\n",
      "\tvariable_groups={},\n",
      "\tconstant_fill_strategy={},\n",
      "\tallow_missing_timesteps=True,\n",
      "\tlags={},\n",
      "\tadd_relative_time_idx=False,\n",
      "\tadd_target_scales=False,\n",
      "\tadd_encoder_length=False,\n",
      "\ttarget_normalizer=GroupNormalizer(\n",
      "\tmethod='standard',\n",
      "\tgroups=['location_id'],\n",
      "\tcenter=True,\n",
      "\tscale_by_group=False,\n",
      "\ttransformation=None\n",
      "),\n",
      "\tcategorical_encoders={'__group_id__location_id': NaNLabelEncoder(add_nan=False, warn=True), 'location_id': NaNLabelEncoder(add_nan=False, warn=True), 'is_ocean': NaNLabelEncoder(add_nan=False, warn=True), 'season': NaNLabelEncoder(add_nan=False, warn=True)},\n",
      "\tscalers={'lat': StandardScaler(), 'lon': StandardScaler(), 'time_idx_norm': StandardScaler(), 'year': StandardScaler(), 'dayofyear_sin': StandardScaler(), 'dayofyear_cos': StandardScaler(), 'month_sin': StandardScaler(), 'month_cos': StandardScaler(), 'PC1': StandardScaler(), 'PC2': StandardScaler(), 'PC3': StandardScaler(), 'PC4': StandardScaler(), 'PC5': StandardScaler(), 'PC6': StandardScaler(), 'PC7': StandardScaler(), 'PC8': StandardScaler(), 'PC9': StandardScaler(), 'PC10': StandardScaler(), 'PC11': StandardScaler()},\n",
      "\trandomize_length=None,\n",
      "\tpredict_mode=True\n",
      ")\n"
     ]
    }
   ],
   "source": [
    "# Define the variables groups\n",
    "group_ids = [\"location_id\"]\n",
    "target = \"2t\"\n",
    "time_varying_known_reals = [\"time_idx_norm\", \"year\", \"dayofyear_sin\", \"dayofyear_cos\", \"month_sin\", \"month_cos\"]\n",
    "time_varying_known_categoricals = [\"season\"]\n",
    "time_varying_unknown_reals = [\"2t\", \"PC1\", \"PC2\", \"PC3\", \"PC4\", \"PC5\", \"PC6\", \"PC7\", \"PC8\", \"PC9\", \"PC10\", \"PC11\"]\n",
    "time_varying_unknown_categoricals = [] # There is no unknown categoricals variables\n",
    "static_reals = [\"lat\", \"lon\"]\n",
    "static_categoricals = [\"is_ocean\", \"location_id\"]\n",
    "\n",
    "# Now we create the TimeSeriesDataSet for the train data\n",
    "tft_train_dataset = TimeSeriesDataSet(\n",
    "    df_train,\n",
    "    time_idx=\"time_idx\",\n",
    "    target=target,\n",
    "    group_ids=group_ids,\n",
    "    max_encoder_length=max_encoder_length,\n",
    "    min_encoder_length=min_encoder_length,\n",
    "    max_prediction_length=max_prediction_length,\n",
    "    min_prediction_length=min_prediction_length,\n",
    "    time_varying_known_reals=time_varying_known_reals,\n",
    "    time_varying_known_categoricals=time_varying_known_categoricals,\n",
    "    time_varying_unknown_reals=time_varying_unknown_reals,\n",
    "    static_reals=static_reals,\n",
    "    static_categoricals=static_categoricals,\n",
    "    allow_missing_timesteps=True,\n",
    "    target_normalizer=GroupNormalizer(groups=group_ids), \n",
    "    )\n",
    "\n",
    "# The TimeSeriesDataSet for the validation data\n",
    "tft_val_dataset = TimeSeriesDataSet.from_dataset(\n",
    "    tft_train_dataset, df_val, predict=True, stop_randomization=True\n",
    ")\n",
    "\n",
    "# Define the batch size and the train and validation dataloaders, which are used on the model to train.\n",
    "batch_size = 64\n",
    "train_dataloader = tft_train_dataset.to_dataloader(train=True, batch_size=batch_size)\n",
    "val_dataloader = tft_val_dataset.to_dataloader(train=False, batch_size=batch_size)\n",
    "print(\"Datasets info\")\n",
    "print(tft_train_dataset)\n",
    "print(tft_val_dataset)"
   ]
  },
  {
   "cell_type": "markdown",
   "id": "5cafebf4",
   "metadata": {},
   "source": [
    "The next step is to define the TFT model and define the hyperparameters to use. \n",
    "For this model there are 7 main hyperparameters.\n",
    "\n",
    "- Max learning rate: It is the starting learning rate of the training.\n",
    "- Reduce on pleteau patience: Is the number of epochs that the model have to improve the validation loss. If it does not improve in this number of epochs, the lr is reduce to the half.\n",
    "- Hidden size: It is one of the main parameters, it indicates the capacity of the model.\n",
    "- Attention head size: It is the number of attention heads. It is important to mention that each head will have a size of hidden_size/attention_head_size, so this division must be exact.\n",
    "- Dropout: the percentage of neurons deactivated during the training to increase the generalization capacity.\n",
    "- Hidden continuous size: It is the size of the input embeddings.\n",
    "- Gradient clip val: It is a parameter to regulate the gradient of the backpropagation in order to evitate the gradient explosion.\n",
    "- Max epochs: is the max number of epochs that the training will perform."
   ]
  },
  {
   "cell_type": "code",
   "execution_count": 6,
   "id": "0f8e703d",
   "metadata": {},
   "outputs": [
    {
     "name": "stderr",
     "output_type": "stream",
     "text": [
      "/root/.pyenv/versions/tft-venv/lib/python3.9/site-packages/pytorch_lightning/utilities/parsing.py:261: UserWarning: Attribute 'loss' is an instance of `nn.Module` and is already saved during checkpointing. It is recommended to ignore them using `self.save_hyperparameters(ignore=['loss'])`.\n",
      "  rank_zero_warn(\n",
      "/root/.pyenv/versions/tft-venv/lib/python3.9/site-packages/pytorch_lightning/utilities/parsing.py:261: UserWarning: Attribute 'logging_metrics' is an instance of `nn.Module` and is already saved during checkpointing. It is recommended to ignore them using `self.save_hyperparameters(ignore=['logging_metrics'])`.\n",
      "  rank_zero_warn(\n"
     ]
    }
   ],
   "source": [
    "# Define the model hyperparameters\n",
    "max_lr = 0.02\n",
    "reduce_on_plateau_patience = 2\n",
    "hidden_size = 128\n",
    "attention_head_size = 2\n",
    "dropout = 0.3\n",
    "hidden_continuous_size=16\n",
    "gradient_clip_val=0.5\n",
    "max_epochs = 50\n",
    "\n",
    "# Define the model\n",
    "tft = TemporalFusionTransformer.from_dataset(\n",
    "    tft_train_dataset,\n",
    "    hidden_size=hidden_size,\n",
    "    attention_head_size=attention_head_size,\n",
    "    dropout=dropout,\n",
    "    hidden_continuous_size = hidden_continuous_size,\n",
    "    loss=QuantileLoss(quantiles=[0.1, 0.5, 0.9]),\n",
    "    log_interval=1,\n",
    "    learning_rate=max_lr,\n",
    "    reduce_on_plateau_patience=reduce_on_plateau_patience,\n",
    "    optimizer=\"ranger\"\n",
    ")"
   ]
  },
  {
   "cell_type": "markdown",
   "id": "2f8b36c2",
   "metadata": {},
   "source": [
    "After defining the model we are going to create the callbacks and the trainer. The callbacks are obejcts that are evaluated during the training as the checkpoint parameters saving or the early stopping. Also, it is important to define the paths for the checkpoints and logs."
   ]
  },
  {
   "cell_type": "code",
   "execution_count": 7,
   "id": "87f17e19",
   "metadata": {},
   "outputs": [
    {
     "name": "stderr",
     "output_type": "stream",
     "text": [
      "GPU available: True, used: True\n",
      "TPU available: False, using: 0 TPU cores\n",
      "IPU available: False, using: 0 IPUs\n",
      "HPU available: False, using: 0 HPUs\n",
      "`Trainer(limit_train_batches=1.0)` was configured so 100% of the batches per epoch will be used..\n"
     ]
    }
   ],
   "source": [
    "# Define the Early Stopping callback, if it does not improve after 5 epoch it is stopped.\n",
    "early_stop = EarlyStopping(\n",
    "    monitor=\"val_loss\",\n",
    "    patience=5,\n",
    "    verbose=True,\n",
    "    mode=\"min\"\n",
    ")\n",
    "\n",
    "# Define the checkpoint callback. Save the configuration of the best val_loss value.\n",
    "checkpoint_callback = ModelCheckpoint(\n",
    "    monitor=\"val_loss\",\n",
    "    save_last=True,  \n",
    "    save_top_k=1,\n",
    "    mode=\"min\"\n",
    ")\n",
    "\n",
    "# We are going to create a custom callback to be able to reset the learning rate at the middle of the training.\n",
    "# If we stop the training, change the learning rate and continue the training with a checkpoint, the lr is updated.\n",
    "class ResetLearningRateCallback(Callback):\n",
    "    def on_train_start(self, trainer, pl_module):\n",
    "        # Force the new learning rate at the optimizer.\n",
    "        for g in trainer.optimizers[0].param_groups:\n",
    "            g[\"lr\"] = max_lr\n",
    "        print(f\"Learning rate changed to {g['lr']}\")\n",
    "\n",
    "\n",
    "# Create the logger to save all the metrics and results of the training\n",
    "logger = TensorBoardLogger(\"tft_results_logs\", name=\"TFM_model_3windows\", version=2)\n",
    "\n",
    "# Define the path to use a checkpoint\n",
    "ckpt_path = \"tft_results_logs/TFM_model_3windows/version_1/checkpoints/epoch=15-step=46736.ckpt\"\n",
    "\n",
    "# Create the training with the logger, the callbacks and the parameters\n",
    "trainer = Trainer(\n",
    "    logger=logger,\n",
    "    enable_progress_bar=True,\n",
    "    enable_model_summary=True,\n",
    "    callbacks=[\n",
    "        checkpoint_callback, \n",
    "        LearningRateMonitor(\"step\"), \n",
    "        ResetLearningRateCallback()],\n",
    "    max_epochs=max_epochs,\n",
    "    gpus=1 if torch.cuda.is_available() else 0,\n",
    "    enable_checkpointing=True,\n",
    "#    resume_from_checkpoint=ckpt_path,              # This option can be uncommented to resume the training from a checkpoint.\n",
    "    limit_train_batches=1.0,\n",
    "    gradient_clip_val=gradient_clip_val,\n",
    "    default_root_dir=\"tft_results_logs\",\n",
    ")"
   ]
  },
  {
   "cell_type": "markdown",
   "id": "556bf26d",
   "metadata": {},
   "source": [
    "Finally, we can train the model."
   ]
  },
  {
   "cell_type": "code",
   "execution_count": 8,
   "id": "5734f1d6",
   "metadata": {},
   "outputs": [
    {
     "name": "stderr",
     "output_type": "stream",
     "text": [
      "LOCAL_RANK: 0 - CUDA_VISIBLE_DEVICES: [0]\n",
      "\n",
      "   | Name                               | Type                            | Params\n",
      "----------------------------------------------------------------------------------------\n",
      "0  | loss                               | QuantileLoss                    | 0     \n",
      "1  | logging_metrics                    | ModuleList                      | 0     \n",
      "2  | input_embeddings                   | MultiEmbedding                  | 3.4 K \n",
      "3  | prescalers                         | ModuleDict                      | 640   \n",
      "4  | static_variable_selection          | VariableSelectionNetwork        | 12.2 K\n",
      "5  | encoder_variable_selection         | VariableSelectionNetwork        | 109 K \n",
      "6  | decoder_variable_selection         | VariableSelectionNetwork        | 35.6 K\n",
      "7  | static_context_variable_selection  | GatedResidualNetwork            | 66.3 K\n",
      "8  | static_context_initial_hidden_lstm | GatedResidualNetwork            | 66.3 K\n",
      "9  | static_context_initial_cell_lstm   | GatedResidualNetwork            | 66.3 K\n",
      "10 | static_context_enrichment          | GatedResidualNetwork            | 66.3 K\n",
      "11 | lstm_encoder                       | LSTM                            | 132 K \n",
      "12 | lstm_decoder                       | LSTM                            | 132 K \n",
      "13 | post_lstm_gate_encoder             | GatedLinearUnit                 | 33.0 K\n",
      "14 | post_lstm_add_norm_encoder         | AddNorm                         | 256   \n",
      "15 | static_enrichment                  | GatedResidualNetwork            | 82.7 K\n",
      "16 | multihead_attn                     | InterpretableMultiHeadAttention | 49.5 K\n",
      "17 | post_attn_gate_norm                | GateAddNorm                     | 33.3 K\n",
      "18 | pos_wise_ff                        | GatedResidualNetwork            | 66.3 K\n",
      "19 | pre_output_gate_norm               | GateAddNorm                     | 33.3 K\n",
      "20 | output_layer                       | Linear                          | 387   \n",
      "----------------------------------------------------------------------------------------\n",
      "988 K     Trainable params\n",
      "0         Non-trainable params\n",
      "988 K     Total params\n",
      "3.956     Total estimated model params size (MB)\n"
     ]
    },
    {
     "data": {
      "application/vnd.jupyter.widget-view+json": {
       "model_id": "d40632f9ea704cbfaa2f54968378575f",
       "version_major": 2,
       "version_minor": 0
      },
      "text/plain": [
       "Sanity Checking: 0it [00:00, ?it/s]"
      ]
     },
     "metadata": {},
     "output_type": "display_data"
    },
    {
     "name": "stderr",
     "output_type": "stream",
     "text": [
      "/root/.pyenv/versions/tft-venv/lib/python3.9/site-packages/pytorch_lightning/trainer/connectors/data_connector.py:240: PossibleUserWarning: The dataloader, val_dataloader 0, does not have many workers which may be a bottleneck. Consider increasing the value of the `num_workers` argument` (try 12 which is the number of cpus on this machine) in the `DataLoader` init to improve performance.\n",
      "  rank_zero_warn(\n"
     ]
    },
    {
     "name": "stdout",
     "output_type": "stream",
     "text": [
      "Learning rate changed to 0.02\n"
     ]
    },
    {
     "name": "stderr",
     "output_type": "stream",
     "text": [
      "/root/.pyenv/versions/tft-venv/lib/python3.9/site-packages/pytorch_lightning/trainer/connectors/data_connector.py:240: PossibleUserWarning: The dataloader, train_dataloader, does not have many workers which may be a bottleneck. Consider increasing the value of the `num_workers` argument` (try 12 which is the number of cpus on this machine) in the `DataLoader` init to improve performance.\n",
      "  rank_zero_warn(\n"
     ]
    },
    {
     "data": {
      "application/vnd.jupyter.widget-view+json": {
       "model_id": "430057a2c9604ba198db73f6cdd64642",
       "version_major": 2,
       "version_minor": 0
      },
      "text/plain": [
       "Training: 0it [00:00, ?it/s]"
      ]
     },
     "metadata": {},
     "output_type": "display_data"
    },
    {
     "data": {
      "application/vnd.jupyter.widget-view+json": {
       "model_id": "896bf74c54764959ac4311bafa76b43d",
       "version_major": 2,
       "version_minor": 0
      },
      "text/plain": [
       "Validation: 0it [00:00, ?it/s]"
      ]
     },
     "metadata": {},
     "output_type": "display_data"
    },
    {
     "data": {
      "application/vnd.jupyter.widget-view+json": {
       "model_id": "5712bf6f8df349c9b81e86d226de3428",
       "version_major": 2,
       "version_minor": 0
      },
      "text/plain": [
       "Validation: 0it [00:00, ?it/s]"
      ]
     },
     "metadata": {},
     "output_type": "display_data"
    },
    {
     "data": {
      "application/vnd.jupyter.widget-view+json": {
       "model_id": "4ae7990b69314c158f8e6b6015e81f2d",
       "version_major": 2,
       "version_minor": 0
      },
      "text/plain": [
       "Validation: 0it [00:00, ?it/s]"
      ]
     },
     "metadata": {},
     "output_type": "display_data"
    },
    {
     "data": {
      "application/vnd.jupyter.widget-view+json": {
       "model_id": "72431dcd8a634aa59d2b506a86780504",
       "version_major": 2,
       "version_minor": 0
      },
      "text/plain": [
       "Validation: 0it [00:00, ?it/s]"
      ]
     },
     "metadata": {},
     "output_type": "display_data"
    },
    {
     "data": {
      "application/vnd.jupyter.widget-view+json": {
       "model_id": "0a47b6e598074faa86f013eb0dbb901f",
       "version_major": 2,
       "version_minor": 0
      },
      "text/plain": [
       "Validation: 0it [00:00, ?it/s]"
      ]
     },
     "metadata": {},
     "output_type": "display_data"
    },
    {
     "data": {
      "application/vnd.jupyter.widget-view+json": {
       "model_id": "90b13ce6b31f41aa8e92ad6ba90041c1",
       "version_major": 2,
       "version_minor": 0
      },
      "text/plain": [
       "Validation: 0it [00:00, ?it/s]"
      ]
     },
     "metadata": {},
     "output_type": "display_data"
    },
    {
     "data": {
      "application/vnd.jupyter.widget-view+json": {
       "model_id": "090b4817664f4f0f92d7710f2fe37534",
       "version_major": 2,
       "version_minor": 0
      },
      "text/plain": [
       "Validation: 0it [00:00, ?it/s]"
      ]
     },
     "metadata": {},
     "output_type": "display_data"
    },
    {
     "data": {
      "application/vnd.jupyter.widget-view+json": {
       "model_id": "9ca826549cd94ed686e4a77addec9b66",
       "version_major": 2,
       "version_minor": 0
      },
      "text/plain": [
       "Validation: 0it [00:00, ?it/s]"
      ]
     },
     "metadata": {},
     "output_type": "display_data"
    },
    {
     "data": {
      "application/vnd.jupyter.widget-view+json": {
       "model_id": "6b5feb62ba194fb0b24c01e0fb77a18e",
       "version_major": 2,
       "version_minor": 0
      },
      "text/plain": [
       "Validation: 0it [00:00, ?it/s]"
      ]
     },
     "metadata": {},
     "output_type": "display_data"
    },
    {
     "data": {
      "application/vnd.jupyter.widget-view+json": {
       "model_id": "37e8c21f4e54479e8aaaab4a7a340953",
       "version_major": 2,
       "version_minor": 0
      },
      "text/plain": [
       "Validation: 0it [00:00, ?it/s]"
      ]
     },
     "metadata": {},
     "output_type": "display_data"
    },
    {
     "data": {
      "application/vnd.jupyter.widget-view+json": {
       "model_id": "b2bfb29014b24198a442e674ea1d226e",
       "version_major": 2,
       "version_minor": 0
      },
      "text/plain": [
       "Validation: 0it [00:00, ?it/s]"
      ]
     },
     "metadata": {},
     "output_type": "display_data"
    },
    {
     "data": {
      "application/vnd.jupyter.widget-view+json": {
       "model_id": "ae69dff7f852431b8267a0737d14ceff",
       "version_major": 2,
       "version_minor": 0
      },
      "text/plain": [
       "Validation: 0it [00:00, ?it/s]"
      ]
     },
     "metadata": {},
     "output_type": "display_data"
    },
    {
     "data": {
      "application/vnd.jupyter.widget-view+json": {
       "model_id": "821280ddf7294fb9833851bf906fa223",
       "version_major": 2,
       "version_minor": 0
      },
      "text/plain": [
       "Validation: 0it [00:00, ?it/s]"
      ]
     },
     "metadata": {},
     "output_type": "display_data"
    },
    {
     "data": {
      "application/vnd.jupyter.widget-view+json": {
       "model_id": "a68c9fcfc0d346e28890799e26ec67c9",
       "version_major": 2,
       "version_minor": 0
      },
      "text/plain": [
       "Validation: 0it [00:00, ?it/s]"
      ]
     },
     "metadata": {},
     "output_type": "display_data"
    },
    {
     "data": {
      "application/vnd.jupyter.widget-view+json": {
       "model_id": "915b2f24ebf74cef9645deba1eba77e2",
       "version_major": 2,
       "version_minor": 0
      },
      "text/plain": [
       "Validation: 0it [00:00, ?it/s]"
      ]
     },
     "metadata": {},
     "output_type": "display_data"
    },
    {
     "data": {
      "application/vnd.jupyter.widget-view+json": {
       "model_id": "65ed4a3270b8499d98f5b871d45f0742",
       "version_major": 2,
       "version_minor": 0
      },
      "text/plain": [
       "Validation: 0it [00:00, ?it/s]"
      ]
     },
     "metadata": {},
     "output_type": "display_data"
    },
    {
     "data": {
      "application/vnd.jupyter.widget-view+json": {
       "model_id": "7a2193993cd54d03b968086b5a794c22",
       "version_major": 2,
       "version_minor": 0
      },
      "text/plain": [
       "Validation: 0it [00:00, ?it/s]"
      ]
     },
     "metadata": {},
     "output_type": "display_data"
    },
    {
     "data": {
      "application/vnd.jupyter.widget-view+json": {
       "model_id": "05ed2c39ccaf45e299b222ba5cc062e5",
       "version_major": 2,
       "version_minor": 0
      },
      "text/plain": [
       "Validation: 0it [00:00, ?it/s]"
      ]
     },
     "metadata": {},
     "output_type": "display_data"
    },
    {
     "data": {
      "application/vnd.jupyter.widget-view+json": {
       "model_id": "8f60678e848f4ec487bc304ec03fa3c6",
       "version_major": 2,
       "version_minor": 0
      },
      "text/plain": [
       "Validation: 0it [00:00, ?it/s]"
      ]
     },
     "metadata": {},
     "output_type": "display_data"
    },
    {
     "data": {
      "application/vnd.jupyter.widget-view+json": {
       "model_id": "a3c811563d7742f3a14949e347d6873e",
       "version_major": 2,
       "version_minor": 0
      },
      "text/plain": [
       "Validation: 0it [00:00, ?it/s]"
      ]
     },
     "metadata": {},
     "output_type": "display_data"
    },
    {
     "data": {
      "application/vnd.jupyter.widget-view+json": {
       "model_id": "336496e1bcd74c97b010b4e8625f587a",
       "version_major": 2,
       "version_minor": 0
      },
      "text/plain": [
       "Validation: 0it [00:00, ?it/s]"
      ]
     },
     "metadata": {},
     "output_type": "display_data"
    },
    {
     "data": {
      "application/vnd.jupyter.widget-view+json": {
       "model_id": "3e98211408c341a4ac16fe8e2a1f1bae",
       "version_major": 2,
       "version_minor": 0
      },
      "text/plain": [
       "Validation: 0it [00:00, ?it/s]"
      ]
     },
     "metadata": {},
     "output_type": "display_data"
    },
    {
     "data": {
      "application/vnd.jupyter.widget-view+json": {
       "model_id": "e53d2e32228840bc875aec8afe6b9d79",
       "version_major": 2,
       "version_minor": 0
      },
      "text/plain": [
       "Validation: 0it [00:00, ?it/s]"
      ]
     },
     "metadata": {},
     "output_type": "display_data"
    },
    {
     "data": {
      "application/vnd.jupyter.widget-view+json": {
       "model_id": "2d2a68fdc4274d6abc15fda06e61ae0f",
       "version_major": 2,
       "version_minor": 0
      },
      "text/plain": [
       "Validation: 0it [00:00, ?it/s]"
      ]
     },
     "metadata": {},
     "output_type": "display_data"
    },
    {
     "data": {
      "application/vnd.jupyter.widget-view+json": {
       "model_id": "decce2dc04a7424eac634aa96c7b7576",
       "version_major": 2,
       "version_minor": 0
      },
      "text/plain": [
       "Validation: 0it [00:00, ?it/s]"
      ]
     },
     "metadata": {},
     "output_type": "display_data"
    },
    {
     "data": {
      "application/vnd.jupyter.widget-view+json": {
       "model_id": "3e1267a40afe4579bcc65bec63b7c7f1",
       "version_major": 2,
       "version_minor": 0
      },
      "text/plain": [
       "Validation: 0it [00:00, ?it/s]"
      ]
     },
     "metadata": {},
     "output_type": "display_data"
    },
    {
     "data": {
      "application/vnd.jupyter.widget-view+json": {
       "model_id": "8c4b0bf095454d5ca62349debaeeb665",
       "version_major": 2,
       "version_minor": 0
      },
      "text/plain": [
       "Validation: 0it [00:00, ?it/s]"
      ]
     },
     "metadata": {},
     "output_type": "display_data"
    },
    {
     "data": {
      "application/vnd.jupyter.widget-view+json": {
       "model_id": "67efafe275b5494d955e01ab813b8ed1",
       "version_major": 2,
       "version_minor": 0
      },
      "text/plain": [
       "Validation: 0it [00:00, ?it/s]"
      ]
     },
     "metadata": {},
     "output_type": "display_data"
    },
    {
     "data": {
      "application/vnd.jupyter.widget-view+json": {
       "model_id": "e3cf14a2bbfc4b1d9b2465a1638982f5",
       "version_major": 2,
       "version_minor": 0
      },
      "text/plain": [
       "Validation: 0it [00:00, ?it/s]"
      ]
     },
     "metadata": {},
     "output_type": "display_data"
    },
    {
     "data": {
      "application/vnd.jupyter.widget-view+json": {
       "model_id": "60e3dd7a98e64fa8957f096235d51bcf",
       "version_major": 2,
       "version_minor": 0
      },
      "text/plain": [
       "Validation: 0it [00:00, ?it/s]"
      ]
     },
     "metadata": {},
     "output_type": "display_data"
    },
    {
     "data": {
      "application/vnd.jupyter.widget-view+json": {
       "model_id": "baf38d6824294706893be79a1f63d02a",
       "version_major": 2,
       "version_minor": 0
      },
      "text/plain": [
       "Validation: 0it [00:00, ?it/s]"
      ]
     },
     "metadata": {},
     "output_type": "display_data"
    },
    {
     "data": {
      "application/vnd.jupyter.widget-view+json": {
       "model_id": "f38afceea2e24feab527d7ec505cd5c0",
       "version_major": 2,
       "version_minor": 0
      },
      "text/plain": [
       "Validation: 0it [00:00, ?it/s]"
      ]
     },
     "metadata": {},
     "output_type": "display_data"
    },
    {
     "data": {
      "application/vnd.jupyter.widget-view+json": {
       "model_id": "bf34e27db5684c1e887291ea5935160d",
       "version_major": 2,
       "version_minor": 0
      },
      "text/plain": [
       "Validation: 0it [00:00, ?it/s]"
      ]
     },
     "metadata": {},
     "output_type": "display_data"
    },
    {
     "data": {
      "application/vnd.jupyter.widget-view+json": {
       "model_id": "6836810fe49a455e999ff51629506760",
       "version_major": 2,
       "version_minor": 0
      },
      "text/plain": [
       "Validation: 0it [00:00, ?it/s]"
      ]
     },
     "metadata": {},
     "output_type": "display_data"
    },
    {
     "data": {
      "application/vnd.jupyter.widget-view+json": {
       "model_id": "aac8c3ba9d8a41c7a89f4740e775767d",
       "version_major": 2,
       "version_minor": 0
      },
      "text/plain": [
       "Validation: 0it [00:00, ?it/s]"
      ]
     },
     "metadata": {},
     "output_type": "display_data"
    },
    {
     "data": {
      "application/vnd.jupyter.widget-view+json": {
       "model_id": "b596782a072b4d119d97abe6f631b107",
       "version_major": 2,
       "version_minor": 0
      },
      "text/plain": [
       "Validation: 0it [00:00, ?it/s]"
      ]
     },
     "metadata": {},
     "output_type": "display_data"
    },
    {
     "data": {
      "application/vnd.jupyter.widget-view+json": {
       "model_id": "d74e16df31e14004b18576b1d2f85e34",
       "version_major": 2,
       "version_minor": 0
      },
      "text/plain": [
       "Validation: 0it [00:00, ?it/s]"
      ]
     },
     "metadata": {},
     "output_type": "display_data"
    },
    {
     "data": {
      "application/vnd.jupyter.widget-view+json": {
       "model_id": "67fa93aba59841b69e8a24d1a1d797cf",
       "version_major": 2,
       "version_minor": 0
      },
      "text/plain": [
       "Validation: 0it [00:00, ?it/s]"
      ]
     },
     "metadata": {},
     "output_type": "display_data"
    },
    {
     "data": {
      "application/vnd.jupyter.widget-view+json": {
       "model_id": "5453f978627e40269881111899fa63d8",
       "version_major": 2,
       "version_minor": 0
      },
      "text/plain": [
       "Validation: 0it [00:00, ?it/s]"
      ]
     },
     "metadata": {},
     "output_type": "display_data"
    },
    {
     "data": {
      "application/vnd.jupyter.widget-view+json": {
       "model_id": "d1f6818f752a48f2aef3905064b155a8",
       "version_major": 2,
       "version_minor": 0
      },
      "text/plain": [
       "Validation: 0it [00:00, ?it/s]"
      ]
     },
     "metadata": {},
     "output_type": "display_data"
    },
    {
     "data": {
      "application/vnd.jupyter.widget-view+json": {
       "model_id": "d0ea584f45e0424ebf048e9a3418c3be",
       "version_major": 2,
       "version_minor": 0
      },
      "text/plain": [
       "Validation: 0it [00:00, ?it/s]"
      ]
     },
     "metadata": {},
     "output_type": "display_data"
    },
    {
     "data": {
      "application/vnd.jupyter.widget-view+json": {
       "model_id": "5edcee046ccc4d29b28b3e54f4d74037",
       "version_major": 2,
       "version_minor": 0
      },
      "text/plain": [
       "Validation: 0it [00:00, ?it/s]"
      ]
     },
     "metadata": {},
     "output_type": "display_data"
    },
    {
     "name": "stderr",
     "output_type": "stream",
     "text": [
      "/root/.pyenv/versions/tft-venv/lib/python3.9/site-packages/pytorch_lightning/trainer/trainer.py:726: UserWarning: Detected KeyboardInterrupt, attempting graceful shutdown...\n",
      "  rank_zero_warn(\"Detected KeyboardInterrupt, attempting graceful shutdown...\")\n"
     ]
    }
   ],
   "source": [
    "# Train the model defined with the training and validation data.\n",
    "trainer.fit(tft, train_dataloader, val_dataloader)"
   ]
  }
 ],
 "metadata": {
  "kernelspec": {
   "display_name": "tft-venv",
   "language": "python",
   "name": "python3"
  },
  "language_info": {
   "codemirror_mode": {
    "name": "ipython",
    "version": 3
   },
   "file_extension": ".py",
   "mimetype": "text/x-python",
   "name": "python",
   "nbconvert_exporter": "python",
   "pygments_lexer": "ipython3",
   "version": "3.9.18"
  }
 },
 "nbformat": 4,
 "nbformat_minor": 5
}
